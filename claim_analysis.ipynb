{
  "nbformat": 4,
  "nbformat_minor": 0,
  "metadata": {
    "colab": {
      "provenance": [],
      "toc_visible": true,
      "gpuType": "T4",
      "authorship_tag": "ABX9TyMZPqBSrbXxmEd4P5giQ5KO",
      "include_colab_link": true
    },
    "kernelspec": {
      "name": "python3",
      "display_name": "Python 3"
    },
    "language_info": {
      "name": "python"
    },
    "accelerator": "GPU"
  },
  "cells": [
    {
      "cell_type": "markdown",
      "metadata": {
        "id": "view-in-github",
        "colab_type": "text"
      },
      "source": [
        "<a href=\"https://colab.research.google.com/github/alitarikarslanoglu/ClaimAnalysis/blob/main/claim_analysis.ipynb\" target=\"_parent\"><img src=\"https://colab.research.google.com/assets/colab-badge.svg\" alt=\"Open In Colab\"/></a>"
      ]
    },
    {
      "cell_type": "markdown",
      "source": [
        "#Claim Analysis"
      ],
      "metadata": {
        "id": "CwQOD-er8dOY"
      }
    },
    {
      "cell_type": "markdown",
      "source": [
        "## System Check and Instalation of Reqirements"
      ],
      "metadata": {
        "id": "5gDA7Ef_8XXl"
      }
    },
    {
      "cell_type": "code",
      "execution_count": null,
      "metadata": {
        "id": "Mn5NCVxx4hd8",
        "colab": {
          "base_uri": "https://localhost:8080/"
        },
        "outputId": "04a56658-dd3d-42f6-aad8-73f514cc74b9"
      },
      "outputs": [
        {
          "output_type": "stream",
          "name": "stdout",
          "text": [
            "Wed Mar 20 11:23:08 2024       \n",
            "+---------------------------------------------------------------------------------------+\n",
            "| NVIDIA-SMI 535.104.05             Driver Version: 535.104.05   CUDA Version: 12.2     |\n",
            "|-----------------------------------------+----------------------+----------------------+\n",
            "| GPU  Name                 Persistence-M | Bus-Id        Disp.A | Volatile Uncorr. ECC |\n",
            "| Fan  Temp   Perf          Pwr:Usage/Cap |         Memory-Usage | GPU-Util  Compute M. |\n",
            "|                                         |                      |               MIG M. |\n",
            "|=========================================+======================+======================|\n",
            "|   0  Tesla T4                       Off | 00000000:00:04.0 Off |                    0 |\n",
            "| N/A   66C    P0              30W /  70W |      0MiB / 15360MiB |      0%      Default |\n",
            "|                                         |                      |                  N/A |\n",
            "+-----------------------------------------+----------------------+----------------------+\n",
            "                                                                                         \n",
            "+---------------------------------------------------------------------------------------+\n",
            "| Processes:                                                                            |\n",
            "|  GPU   GI   CI        PID   Type   Process name                            GPU Memory |\n",
            "|        ID   ID                                                             Usage      |\n",
            "|=======================================================================================|\n",
            "|  No running processes found                                                           |\n",
            "+---------------------------------------------------------------------------------------+\n"
          ]
        }
      ],
      "source": [
        "!nvidia-smi"
      ]
    },
    {
      "cell_type": "markdown",
      "source": [
        "### System Requirements"
      ],
      "metadata": {
        "id": "WXGb5oMP8iz7"
      }
    },
    {
      "cell_type": "code",
      "source": [
        "!pip install -Uqqq pip --progress-bar off\n",
        "!pip install -qqq torch==2.1.0 --progress-bar off\n",
        "!pip install -qqq transformers==4.31.0 --progress-bar off\n",
        "!pip install -qqq langchain==0.0.266 --progress-bar off\n",
        "!pip install -qqq chromadb==0.4.5 --progress-bar off\n",
        "!pip install -qqq pypdf==3.15.0 --progress-bar off\n",
        "!pip install -qqq xformers==0.0.20 --progress-bar off\n",
        "!pip install -qqq sentence_transformers==2.2.2 --progress-bar off\n",
        "!pip install -qqq InstructorEmbedding==1.0.1 --progress-bar off\n",
        "!pip install -qqq pdf2image==1.16.3 --progress-bar off\n",
        "!pip install -qqq selenium==4.14.0 --progress-bar off\n",
        "!pip install -qqq bs4 --progress-bar off\n",
        "!pip install -qqq tqdm --progress-bar off\n",
        "!pip install -qqq PyPDF2 --progress-bar off\n",
        "!wget https://dl.google.com/linux/direct/google-chrome-stable_current_amd64.deb && apt install ./google-chrome-stable_current_amd64.deb\n",
        "!pip install -qqq  auto-gptq --extra-index-url https://huggingface.github.io/autogptq-index/whl/cu118/ --progress-bar off\n",
        "!apt install chromium-chromedriver\n",
        "!sudo apt-get install poppler-utils"
      ],
      "metadata": {
        "colab": {
          "base_uri": "https://localhost:8080/"
        },
        "id": "_l5acTUe7kcH",
        "outputId": "fd48f381-008b-4aa1-9dd5-c2ea67601099"
      },
      "execution_count": null,
      "outputs": [
        {
          "output_type": "stream",
          "name": "stdout",
          "text": [
            "\u001b[33mWARNING: Ignoring invalid distribution -ip (/usr/local/lib/python3.10/dist-packages)\u001b[0m\u001b[33m\n",
            "\u001b[0m\u001b[33mWARNING: Ignoring invalid distribution -ip (/usr/local/lib/python3.10/dist-packages)\u001b[0m\u001b[33m\n",
            "\u001b[0m\u001b[33mWARNING: Running pip as the 'root' user can result in broken permissions and conflicting behaviour with the system package manager. It is recommended to use a virtual environment instead: https://pip.pypa.io/warnings/venv\u001b[0m\u001b[33m\n",
            "\u001b[0m\u001b[33mWARNING: Ignoring invalid distribution -ip (/usr/local/lib/python3.10/dist-packages)\u001b[0m\u001b[33m\n",
            "\u001b[0m\u001b[33mWARNING: Ignoring invalid distribution -ip (/usr/local/lib/python3.10/dist-packages)\u001b[0m\u001b[33m\n",
            "\u001b[0m\u001b[31mERROR: pip's dependency resolver does not currently take into account all the packages that are installed. This behaviour is the source of the following dependency conflicts.\n",
            "torchaudio 2.2.1+cu121 requires torch==2.2.1, but you have torch 2.1.0 which is incompatible.\n",
            "torchtext 0.17.1 requires torch==2.2.1, but you have torch 2.1.0 which is incompatible.\n",
            "torchvision 0.17.1+cu121 requires torch==2.2.1, but you have torch 2.1.0 which is incompatible.\u001b[0m\u001b[31m\n",
            "\u001b[0m\u001b[33mWARNING: Running pip as the 'root' user can result in broken permissions and conflicting behaviour with the system package manager. It is recommended to use a virtual environment instead: https://pip.pypa.io/warnings/venv\u001b[0m\u001b[33m\n",
            "\u001b[0m\u001b[33mWARNING: Ignoring invalid distribution -ip (/usr/local/lib/python3.10/dist-packages)\u001b[0m\u001b[33m\n",
            "\u001b[0m\u001b[33mWARNING: Ignoring invalid distribution -ip (/usr/local/lib/python3.10/dist-packages)\u001b[0m\u001b[33m\n",
            "\u001b[0m\u001b[33mWARNING: Running pip as the 'root' user can result in broken permissions and conflicting behaviour with the system package manager. It is recommended to use a virtual environment instead: https://pip.pypa.io/warnings/venv\u001b[0m\u001b[33m\n",
            "\u001b[0m\u001b[33mWARNING: Ignoring invalid distribution -ip (/usr/local/lib/python3.10/dist-packages)\u001b[0m\u001b[33m\n",
            "\u001b[0m\u001b[33mWARNING: Ignoring invalid distribution -ip (/usr/local/lib/python3.10/dist-packages)\u001b[0m\u001b[33m\n",
            "\u001b[0m\u001b[33mWARNING: Running pip as the 'root' user can result in broken permissions and conflicting behaviour with the system package manager. It is recommended to use a virtual environment instead: https://pip.pypa.io/warnings/venv\u001b[0m\u001b[33m\n",
            "\u001b[0m\u001b[33mWARNING: Ignoring invalid distribution -ip (/usr/local/lib/python3.10/dist-packages)\u001b[0m\u001b[33m\n",
            "\u001b[0m  Installing build dependencies ... \u001b[?25l\u001b[?25hdone\n",
            "  Getting requirements to build wheel ... \u001b[?25l\u001b[?25hdone\n",
            "  Preparing metadata (pyproject.toml) ... \u001b[?25l\u001b[?25hdone\n",
            "  Installing build dependencies ... \u001b[?25l\u001b[?25hdone\n",
            "  Getting requirements to build wheel ... \u001b[?25l\u001b[?25hdone\n",
            "  Installing backend dependencies ... \u001b[?25l\u001b[?25hdone\n",
            "  Preparing metadata (pyproject.toml) ... \u001b[?25l\u001b[?25hdone\n",
            "  Building wheel for chroma-hnswlib (pyproject.toml) ... \u001b[?25l\u001b[?25hdone\n",
            "  Building wheel for pypika (pyproject.toml) ... \u001b[?25l\u001b[?25hdone\n",
            "\u001b[33mWARNING: Ignoring invalid distribution -ip (/usr/local/lib/python3.10/dist-packages)\u001b[0m\u001b[33m\n",
            "\u001b[0m\u001b[33mWARNING: Running pip as the 'root' user can result in broken permissions and conflicting behaviour with the system package manager. It is recommended to use a virtual environment instead: https://pip.pypa.io/warnings/venv\u001b[0m\u001b[33m\n",
            "\u001b[0m\u001b[33mWARNING: Ignoring invalid distribution -ip (/usr/local/lib/python3.10/dist-packages)\u001b[0m\u001b[33m\n",
            "\u001b[0m\u001b[33mWARNING: Ignoring invalid distribution -ip (/usr/local/lib/python3.10/dist-packages)\u001b[0m\u001b[33m\n",
            "\u001b[0m\u001b[33mWARNING: Running pip as the 'root' user can result in broken permissions and conflicting behaviour with the system package manager. It is recommended to use a virtual environment instead: https://pip.pypa.io/warnings/venv\u001b[0m\u001b[33m\n",
            "\u001b[0m\u001b[33mWARNING: Ignoring invalid distribution -ip (/usr/local/lib/python3.10/dist-packages)\u001b[0m\u001b[33m\n",
            "\u001b[0m  Installing build dependencies ... \u001b[?25l\u001b[?25hdone\n",
            "  Getting requirements to build wheel ... \u001b[?25l\u001b[?25hdone\n",
            "  Installing backend dependencies ... \u001b[?25l\u001b[?25hdone\n",
            "  Preparing metadata (pyproject.toml) ... \u001b[?25l\u001b[?25hdone\n",
            "  Building wheel for lit (pyproject.toml) ... \u001b[?25l\u001b[?25hdone\n",
            "\u001b[33mWARNING: Ignoring invalid distribution -ip (/usr/local/lib/python3.10/dist-packages)\u001b[0m\u001b[33m\n",
            "\u001b[0m\u001b[31mERROR: pip's dependency resolver does not currently take into account all the packages that are installed. This behaviour is the source of the following dependency conflicts.\n",
            "torchaudio 2.2.1+cu121 requires torch==2.2.1, but you have torch 2.0.1 which is incompatible.\n",
            "torchtext 0.17.1 requires torch==2.2.1, but you have torch 2.0.1 which is incompatible.\n",
            "torchvision 0.17.1+cu121 requires torch==2.2.1, but you have torch 2.0.1 which is incompatible.\u001b[0m\u001b[31m\n",
            "\u001b[0m\u001b[33mWARNING: Running pip as the 'root' user can result in broken permissions and conflicting behaviour with the system package manager. It is recommended to use a virtual environment instead: https://pip.pypa.io/warnings/venv\u001b[0m\u001b[33m\n",
            "\u001b[0m\u001b[33mWARNING: Ignoring invalid distribution -ip (/usr/local/lib/python3.10/dist-packages)\u001b[0m\u001b[33m\n",
            "\u001b[0m  Preparing metadata (setup.py) ... \u001b[?25l\u001b[?25hdone\n",
            "  Building wheel for sentence_transformers (setup.py) ... \u001b[?25l\u001b[?25hdone\n",
            "\u001b[33mWARNING: Ignoring invalid distribution -ip (/usr/local/lib/python3.10/dist-packages)\u001b[0m\u001b[33m\n",
            "\u001b[0m\u001b[31mERROR: pip's dependency resolver does not currently take into account all the packages that are installed. This behaviour is the source of the following dependency conflicts.\n",
            "xformers 0.0.20 requires torch==2.0.1, but you have torch 2.2.1 which is incompatible.\u001b[0m\u001b[31m\n",
            "\u001b[0m\u001b[33mWARNING: Running pip as the 'root' user can result in broken permissions and conflicting behaviour with the system package manager. It is recommended to use a virtual environment instead: https://pip.pypa.io/warnings/venv\u001b[0m\u001b[33m\n",
            "\u001b[0m\u001b[33mWARNING: Ignoring invalid distribution -ip (/usr/local/lib/python3.10/dist-packages)\u001b[0m\u001b[33m\n",
            "\u001b[0m\u001b[33mWARNING: Ignoring invalid distribution -ip (/usr/local/lib/python3.10/dist-packages)\u001b[0m\u001b[33m\n",
            "\u001b[0m\u001b[33mWARNING: Running pip as the 'root' user can result in broken permissions and conflicting behaviour with the system package manager. It is recommended to use a virtual environment instead: https://pip.pypa.io/warnings/venv\u001b[0m\u001b[33m\n",
            "\u001b[0m\u001b[33mWARNING: Ignoring invalid distribution -ip (/usr/local/lib/python3.10/dist-packages)\u001b[0m\u001b[33m\n",
            "\u001b[0m\u001b[33mWARNING: Ignoring invalid distribution -ip (/usr/local/lib/python3.10/dist-packages)\u001b[0m\u001b[33m\n",
            "\u001b[0m\u001b[33mWARNING: Running pip as the 'root' user can result in broken permissions and conflicting behaviour with the system package manager. It is recommended to use a virtual environment instead: https://pip.pypa.io/warnings/venv\u001b[0m\u001b[33m\n",
            "\u001b[0m\u001b[33mWARNING: Ignoring invalid distribution -ip (/usr/local/lib/python3.10/dist-packages)\u001b[0m\u001b[33m\n",
            "\u001b[0m\u001b[33mWARNING: Ignoring invalid distribution -ip (/usr/local/lib/python3.10/dist-packages)\u001b[0m\u001b[33m\n",
            "\u001b[0m\u001b[33mWARNING: Running pip as the 'root' user can result in broken permissions and conflicting behaviour with the system package manager. It is recommended to use a virtual environment instead: https://pip.pypa.io/warnings/venv\u001b[0m\u001b[33m\n",
            "\u001b[0m\u001b[33mWARNING: Ignoring invalid distribution -ip (/usr/local/lib/python3.10/dist-packages)\u001b[0m\u001b[33m\n",
            "\u001b[0m\u001b[33mWARNING: Ignoring invalid distribution -ip (/usr/local/lib/python3.10/dist-packages)\u001b[0m\u001b[33m\n",
            "\u001b[0m\u001b[33mWARNING: Running pip as the 'root' user can result in broken permissions and conflicting behaviour with the system package manager. It is recommended to use a virtual environment instead: https://pip.pypa.io/warnings/venv\u001b[0m\u001b[33m\n",
            "\u001b[0m\u001b[33mWARNING: Ignoring invalid distribution -ip (/usr/local/lib/python3.10/dist-packages)\u001b[0m\u001b[33m\n",
            "\u001b[0m\u001b[33mWARNING: Ignoring invalid distribution -ip (/usr/local/lib/python3.10/dist-packages)\u001b[0m\u001b[33m\n",
            "\u001b[0m\u001b[33mWARNING: Running pip as the 'root' user can result in broken permissions and conflicting behaviour with the system package manager. It is recommended to use a virtual environment instead: https://pip.pypa.io/warnings/venv\u001b[0m\u001b[33m\n",
            "\u001b[0m\u001b[33mWARNING: Ignoring invalid distribution -ip (/usr/local/lib/python3.10/dist-packages)\u001b[0m\u001b[33m\n",
            "\u001b[0m\u001b[33mWARNING: Ignoring invalid distribution -ip (/usr/local/lib/python3.10/dist-packages)\u001b[0m\u001b[33m\n",
            "\u001b[0m\u001b[33mWARNING: Running pip as the 'root' user can result in broken permissions and conflicting behaviour with the system package manager. It is recommended to use a virtual environment instead: https://pip.pypa.io/warnings/venv\u001b[0m\u001b[33m\n",
            "\u001b[0m--2024-03-20 09:53:42--  https://dl.google.com/linux/direct/google-chrome-stable_current_amd64.deb\n",
            "Resolving dl.google.com (dl.google.com)... 142.251.2.136, 142.251.2.190, 142.251.2.93, ...\n",
            "Connecting to dl.google.com (dl.google.com)|142.251.2.136|:443... connected.\n",
            "HTTP request sent, awaiting response... 200 OK\n",
            "Length: 106893292 (102M) [application/x-debian-package]\n",
            "Saving to: ‘google-chrome-stable_current_amd64.deb.2’\n",
            "\n",
            "google-chrome-stabl 100%[===================>] 101.94M   328MB/s    in 0.3s    \n",
            "\n",
            "2024-03-20 09:53:43 (328 MB/s) - ‘google-chrome-stable_current_amd64.deb.2’ saved [106893292/106893292]\n",
            "\n",
            "Reading package lists... Done\n",
            "Building dependency tree... Done\n",
            "Reading state information... Done\n",
            "Note, selecting 'google-chrome-stable' instead of './google-chrome-stable_current_amd64.deb'\n",
            "google-chrome-stable is already the newest version (123.0.6312.58-1).\n",
            "0 upgraded, 0 newly installed, 0 to remove and 37 not upgraded.\n",
            "\u001b[33mWARNING: Ignoring invalid distribution -ip (/usr/local/lib/python3.10/dist-packages)\u001b[0m\u001b[33m\n",
            "\u001b[0m\u001b[33mWARNING: Ignoring invalid distribution -ip (/usr/local/lib/python3.10/dist-packages)\u001b[0m\u001b[33m\n",
            "\u001b[0m\u001b[33mWARNING: Running pip as the 'root' user can result in broken permissions and conflicting behaviour with the system package manager. It is recommended to use a virtual environment instead: https://pip.pypa.io/warnings/venv\u001b[0m\u001b[33m\n",
            "Reading package lists... Done\n",
            "Building dependency tree... Done\n",
            "Reading state information... Done\n",
            "chromium-chromedriver is already the newest version (1:85.0.4183.83-0ubuntu2.22.04.1).\n",
            "0 upgraded, 0 newly installed, 0 to remove and 37 not upgraded.\n",
            "Reading package lists... Done\n",
            "Building dependency tree... Done\n",
            "Reading state information... Done\n",
            "poppler-utils is already the newest version (22.02.0-2ubuntu0.3).\n",
            "0 upgraded, 0 newly installed, 0 to remove and 37 not upgraded.\n"
          ]
        }
      ]
    },
    {
      "cell_type": "markdown",
      "source": [
        "### Imports"
      ],
      "metadata": {
        "id": "y_myN0hFC9i-"
      }
    },
    {
      "cell_type": "code",
      "source": [
        "#import\n",
        "import torch\n",
        "from tqdm import tqdm\n",
        "from auto_gptq import AutoGPTQForCausalLM\n",
        "from langchain import HuggingFacePipeline, PromptTemplate\n",
        "from langchain.chains import RetrievalQA\n",
        "from langchain.document_loaders import PyPDFDirectoryLoader\n",
        "from langchain.embeddings import HuggingFaceInstructEmbeddings\n",
        "from langchain.text_splitter import RecursiveCharacterTextSplitter\n",
        "from langchain.vectorstores import Chroma\n",
        "from pdf2image import convert_from_path\n",
        "from transformers import AutoTokenizer, TextStreamer, pipeline\n",
        "import pandas as pd\n",
        "import re\n",
        "import os\n",
        "import datetime\n",
        "import shutil\n",
        "import glob\n",
        "import time\n",
        "from tqdm import tqdm\n",
        "from google.colab import drive\n",
        "from IPython.display import clear_output\n",
        "from PyPDF2 import PdfReader\n",
        "import random\n",
        "\n",
        "DEVICE = \"cuda:0\" if torch.cuda.is_available() else \"cpu\""
      ],
      "metadata": {
        "id": "FuMbQHQ-8tT0"
      },
      "execution_count": null,
      "outputs": []
    },
    {
      "cell_type": "markdown",
      "source": [
        "## Retrival"
      ],
      "metadata": {
        "id": "XeGALbMxCYTY"
      }
    },
    {
      "cell_type": "markdown",
      "source": [
        "### Selenium WebDriver for Chrome"
      ],
      "metadata": {
        "id": "SO8Hv_2MC0LJ"
      }
    },
    {
      "cell_type": "code",
      "source": [
        "from selenium import webdriver\n",
        "\n",
        "def driversetup():\n",
        "    options = webdriver.ChromeOptions()\n",
        "    #run Selenium in headless mode\n",
        "    options.add_argument('--headless')\n",
        "    options.add_argument('--no-sandbox')\n",
        "    options.add_argument(\"user-agent=Mozilla/5.0 (Windows NT 10.0; Win64; x64) AppleWebKit/537.36 (KHTML, like Gecko) Chrome/98.0.4758.102 Safari/537.36\")\n",
        "    #overcome limited resource problems\n",
        "    options.add_argument('--disable-dev-shm-usage')\n",
        "    options.add_argument(\"--disable-blink-features=AutomationControlled\")\n",
        "    options.add_argument(\"lang=en\")\n",
        "    #open Browser in maximized mode\n",
        "    options.add_argument(\"start-maximized\")\n",
        "    #disable infobars\n",
        "    options.add_argument(\"disable-infobars\")\n",
        "    #disable extension\n",
        "    options.add_argument('ignore-certificate-errors')\n",
        "    options.add_argument('--ignore-ssl-errors=yes')\n",
        "    options.add_argument(\"--disable-extensions\")\n",
        "    options.add_argument(\"--incognito\")\n",
        "    options.add_argument(\"--disable-blink-features=AutomationControlled\")\n",
        "\n",
        "    driver = webdriver.Chrome(options=options)\n",
        "\n",
        "    return driver"
      ],
      "metadata": {
        "id": "NBKbHYS4Cyqd"
      },
      "execution_count": null,
      "outputs": []
    },
    {
      "cell_type": "markdown",
      "source": [
        "###Expert Report/CSV Retrival"
      ],
      "metadata": {
        "id": "oQrZQAQdDIH1"
      }
    },
    {
      "cell_type": "code",
      "source": [
        "!mkdir data\n",
        "!mkdir pdfs\n",
        "!gdown 1Xgb7GwakWa_wEiOAeiFz-sUg8Uo0NO3F -O data/tree.xlsx\n",
        "!rm -r pdfs"
      ],
      "metadata": {
        "colab": {
          "base_uri": "https://localhost:8080/"
        },
        "id": "RhMihj7NC47p",
        "outputId": "abe506fc-db13-4a53-c7f7-cc7ca9f63b4b"
      },
      "execution_count": null,
      "outputs": [
        {
          "output_type": "stream",
          "name": "stdout",
          "text": [
            "mkdir: cannot create directory ‘data’: File exists\n",
            "mkdir: cannot create directory ‘pdfs’: File exists\n",
            "Downloading...\n",
            "From: https://drive.google.com/uc?id=1Xgb7GwakWa_wEiOAeiFz-sUg8Uo0NO3F\n",
            "To: /content/data/tree.xlsx\n",
            "100% 541k/541k [00:00<00:00, 6.41MB/s]\n"
          ]
        }
      ]
    },
    {
      "cell_type": "code",
      "source": [
        "claims = pd.read_excel('data/tree.xlsx')"
      ],
      "metadata": {
        "id": "IFRrY8zSDRgq"
      },
      "execution_count": null,
      "outputs": []
    },
    {
      "cell_type": "markdown",
      "source": [
        "### List of EFSA Opinion References Links"
      ],
      "metadata": {
        "id": "_WvUTyEcFhAA"
      }
    },
    {
      "cell_type": "markdown",
      "source": [
        "In the google sheet created by experts, \"EFSA Opinion Reference\" feature contains the codes of the documents. Following code creates the usable links to those Scientific opinions\n",
        "https://efsa.onlinelibrary.wiley.com/doi/pdf/10.2903/j.efsa.2009.1226"
      ],
      "metadata": {
        "id": "e_I8RLzAFud9"
      }
    },
    {
      "cell_type": "code",
      "source": [
        "res = []\n",
        "for k in tqdm(range(len(claims['EFSA Opinion Reference'])), position=0, leave=True):\n",
        "  i = claims['EFSA Opinion Reference'][k]\n",
        "  claim = claims['Claim'][k]\n",
        "  if str(i) == 'nan':\n",
        "    continue\n",
        "  row = re.split(',',str(i))\n",
        "  for j in row:\n",
        "    args = re.split(';|:',j)\n",
        "    if len(args)!=3:\n",
        "      continue\n",
        "    res.append('https://efsa.onlinelibrary.wiley.com/doi/pdf/10.2903/j.efsa.' + args[0].replace(\" \",\"\") + '.' + args[2].replace(\" \",\"\") + '#'+ claim + '#' + str(k))\n",
        "\n",
        "  row = re.split('-',str(i))\n",
        "  args = re.split('-',j)\n",
        "  if len(args)!=3:\n",
        "    continue\n",
        "  res.append('https://efsa.onlinelibrary.wiley.com/doi/pdf/10.2903/j.efsa.' + args[1].replace(\" \",\"\") + '.' + args[2].replace(\" \",\"\") + '#'+ claim + '#' + str(k))"
      ],
      "metadata": {
        "id": "ikb2JH-vDk0s",
        "colab": {
          "base_uri": "https://localhost:8080/"
        },
        "outputId": "058f82c8-eda0-4849-a8a5-09f7e227b17d"
      },
      "execution_count": null,
      "outputs": [
        {
          "output_type": "stream",
          "name": "stderr",
          "text": [
            "100%|██████████| 237/237 [00:00<00:00, 44630.27it/s]\n"
          ]
        }
      ]
    },
    {
      "cell_type": "code",
      "source": [
        "res[0]"
      ],
      "metadata": {
        "colab": {
          "base_uri": "https://localhost:8080/",
          "height": 35
        },
        "id": "t7jHAIAYSgX9",
        "outputId": "63eb99d1-1c38-4216-d90c-a0414ad64fc1"
      },
      "execution_count": null,
      "outputs": [
        {
          "output_type": "execute_result",
          "data": {
            "text/plain": [
              "'https://efsa.onlinelibrary.wiley.com/doi/pdf/10.2903/j.efsa.2009.1252#ALA contributes to the maintenance of normal blood cholesterol levels#1'"
            ],
            "application/vnd.google.colaboratory.intrinsic+json": {
              "type": "string"
            }
          },
          "metadata": {},
          "execution_count": 7
        }
      ]
    },
    {
      "cell_type": "code",
      "source": [
        "def getpage(url, c, out_subdir):\n",
        "  log = ''\n",
        "  try:\n",
        "    for k in os.listdir('pdfs/'+out_subdir+'/'):\n",
        "      n = re.split('-',k)\n",
        "      if len(n)!=8:\n",
        "        continue\n",
        "      if (str(c) + '.pdf') == n[7]:\n",
        "        log += f'\\tFile n {c} skipped already present\\tfilename:{k}\\n'\n",
        "        return log\n",
        "  except:\n",
        "    pass\n",
        "\n",
        "  driver = driversetup()\n",
        "  driver.get(url)\n",
        "  driver.close()\n",
        "\n",
        "  name = 'pdfs/'+ out_subdir + '/efsa-' + str(datetime.datetime.now().strftime(\"%Y-%m-%d-at-%H-%M-\")) + str(c) + '.pdf'\n",
        "\n",
        "  try:\n",
        "    filename = max([f for f in os.listdir('.')],key=os.path.getctime)\n",
        "    try:\n",
        "      os.mkdir('pdfs/'+ out_subdir)\n",
        "    except:\n",
        "      pass\n",
        "    shutil.move(filename,os.path.join('.',name))\n",
        "  except:\n",
        "    log += f'File n {c} failed reffer to the followring url.\\n{url}\\n'\n",
        "  return log"
      ],
      "metadata": {
        "id": "7OI77wgcGdrN"
      },
      "execution_count": null,
      "outputs": []
    },
    {
      "cell_type": "markdown",
      "source": [
        "For each folders containing pdfs for claims, a text file created giving the overview of the claims"
      ],
      "metadata": {
        "id": "Wa3tG2svTmrV"
      }
    },
    {
      "cell_type": "code",
      "source": [
        "!rm -r pdfs\n",
        "!mkdir pdfs"
      ],
      "metadata": {
        "colab": {
          "base_uri": "https://localhost:8080/"
        },
        "id": "q4I4y77nm2Gp",
        "outputId": "00a593c2-426d-41f0-e375-8ef66b7555a1"
      },
      "execution_count": null,
      "outputs": [
        {
          "output_type": "stream",
          "name": "stdout",
          "text": [
            "rm: cannot remove 'pdfs': No such file or directory\n"
          ]
        }
      ]
    },
    {
      "cell_type": "code",
      "source": [
        "counter = 0\n",
        "\n",
        "log = ''\n",
        "for i in tqdm(res, position=0, leave=True):\n",
        "  sep = i.split('#')\n",
        "  log+=getpage(sep[0],counter, sep[2])\n",
        "  with open('./pdfs/' + sep[2] + '/claim.txt', 'w') as f:\n",
        "    f.write(sep[1])\n",
        "  counter += 1\n",
        "\n",
        "print(log)"
      ],
      "metadata": {
        "colab": {
          "base_uri": "https://localhost:8080/"
        },
        "id": "uv08NCZ3TI5h",
        "outputId": "236d05c4-0707-4f73-cb2a-1151d513b71e"
      },
      "execution_count": null,
      "outputs": [
        {
          "output_type": "stream",
          "name": "stderr",
          "text": [
            "100%|██████████| 297/297 [19:50<00:00,  4.01s/it]"
          ]
        },
        {
          "output_type": "stream",
          "name": "stdout",
          "text": [
            "File n 63 failed reffer to the followring url.\n",
            "https://efsa.onlinelibrary.wiley.com/doi/pdf/10.2903/j.efsa.2011.2303\n",
            "File n 74 failed reffer to the followring url.\n",
            "https://efsa.onlinelibrary.wiley.com/doi/pdf/10.2903/j.efsa.2012.2712\n",
            "File n 104 failed reffer to the followring url.\n",
            "https://efsa.onlinelibrary.wiley.com/doi/pdf/10.2903/j.efsa.2010.1740\n",
            "File n 112 failed reffer to the followring url.\n",
            "https://efsa.onlinelibrary.wiley.com/doi/pdf/10.2903/j.efsa.2010.1806\n",
            "File n 115 failed reffer to the followring url.\n",
            "https://efsa.onlinelibrary.wiley.com/doi/pdf/10.2903/j.efsa.2009.1216\n",
            "File n 116 failed reffer to the followring url.\n",
            "https://efsa.onlinelibrary.wiley.com/doi/pdf/10.2903/j.efsa.2009.1216\n",
            "File n 156 failed reffer to the followring url.\n",
            "https://efsa.onlinelibrary.wiley.com/doi/pdf/10.2903/j.efsa.2009.1219\n",
            "File n 194 failed reffer to the followring url.\n",
            "https://efsa.onlinelibrary.wiley.com/doi/pdf/10.2903/j.efsa.2010.1466\n",
            "File n 196 failed reffer to the followring url.\n",
            "https://efsa.onlinelibrary.wiley.com/doi/pdf/10.2903/j.efsa.2011.2072\n",
            "File n 217 failed reffer to the followring url.\n",
            "https://efsa.onlinelibrary.wiley.com/doi/pdf/10.2903/j.efsa.2010.4114\n",
            "File n 218 failed reffer to the followring url.\n",
            "https://efsa.onlinelibrary.wiley.com/doi/pdf/10.2903/j.efsa.2010.4114\n",
            "File n 219 failed reffer to the followring url.\n",
            "https://efsa.onlinelibrary.wiley.com/doi/pdf/10.2903/j.efsa.2010.4114\n",
            "File n 221 failed reffer to the followring url.\n",
            "https://efsa.onlinelibrary.wiley.com/doi/pdf/10.2903/j.efsa.2009.1223\n",
            "File n 222 failed reffer to the followring url.\n",
            "https://efsa.onlinelibrary.wiley.com/doi/pdf/10.2903/j.efsa.2010.4114\n",
            "File n 227 failed reffer to the followring url.\n",
            "https://efsa.onlinelibrary.wiley.com/doi/pdf/10.2903/j.efsa.2009.1225\n",
            "File n 240 failed reffer to the followring url.\n",
            "https://efsa.onlinelibrary.wiley.com/doi/pdf/10.2903/j.efsa.2009.1226\n",
            "File n 242 failed reffer to the followring url.\n",
            "https://efsa.onlinelibrary.wiley.com/doi/pdf/10.2903/j.efsa.2009.1226\n",
            "File n 271 failed reffer to the followring url.\n",
            "https://efsa.onlinelibrary.wiley.com/doi/pdf/10.2903/j.efsa.2009.1229\n",
            "File n 276 failed reffer to the followring url.\n",
            "https://efsa.onlinelibrary.wiley.com/doi/pdf/10.2903/j.efsa.2009.1229\n",
            "File n 277 failed reffer to the followring url.\n",
            "https://efsa.onlinelibrary.wiley.com/doi/pdf/10.2903/j.efsa.2010.1819\n",
            "File n 279 failed reffer to the followring url.\n",
            "https://efsa.onlinelibrary.wiley.com/doi/pdf/10.2903/j.efsa.2009.1229\n",
            "File n 284 failed reffer to the followring url.\n",
            "https://efsa.onlinelibrary.wiley.com/doi/pdf/10.2903/j.efsa.2010.1819\n",
            "File n 291 failed reffer to the followring url.\n",
            "https://efsa.onlinelibrary.wiley.com/doi/pdf/10.2903/j.efsa.2013.00234\n",
            "File n 292 failed reffer to the followring url.\n",
            "https://efsa.onlinelibrary.wiley.com/doi/pdf/10.2903/j.efsa.2014.00073\n",
            "File n 293 failed reffer to the followring url.\n",
            "https://efsa.onlinelibrary.wiley.com/doi/pdf/10.2903/j.efsa.2013.00040\n",
            "File n 294 failed reffer to the followring url.\n",
            "https://efsa.onlinelibrary.wiley.com/doi/pdf/10.2903/j.efsa.2015.00437\n",
            "File n 295 failed reffer to the followring url.\n",
            "https://efsa.onlinelibrary.wiley.com/doi/pdf/10.2903/j.efsa.2015.00375\n",
            "File n 296 failed reffer to the followring url.\n",
            "https://efsa.onlinelibrary.wiley.com/doi/pdf/10.2903/j.efsa.2011.00972\n",
            "\n"
          ]
        },
        {
          "output_type": "stream",
          "name": "stderr",
          "text": [
            "\n"
          ]
        }
      ]
    },
    {
      "cell_type": "markdown",
      "source": [
        "## Model"
      ],
      "metadata": {
        "id": "j1ejlv3NXVwb"
      }
    },
    {
      "cell_type": "markdown",
      "source": [
        "### Model Initialization"
      ],
      "metadata": {
        "id": "Rd82W5i9XzuP"
      }
    },
    {
      "cell_type": "code",
      "source": [
        "model_path = \"TheBloke/Llama-2-13B-chat-GPTQ\"\n",
        "model_basename = \"model\""
      ],
      "metadata": {
        "id": "lv4OVUQwTPC6"
      },
      "execution_count": null,
      "outputs": []
    },
    {
      "cell_type": "code",
      "source": [
        "tokenizer = AutoTokenizer.from_pretrained(model_path, use_fast=True)\n",
        "model = AutoGPTQForCausalLM.from_quantized(\n",
        "    model_path,\n",
        "    revision=\"gptq-4bit-128g-actorder_True\",\n",
        "    model_basename=model_basename,\n",
        "    use_safetensors=True,\n",
        "    trust_remote_code=True,\n",
        "    inject_fused_attention=False,\n",
        "    device=DEVICE,\n",
        "    quantize_config=None,\n",
        ")\n",
        "streamer = TextStreamer(tokenizer, skip_prompt=True, skip_special_tokens=True)"
      ],
      "metadata": {
        "colab": {
          "base_uri": "https://localhost:8080/"
        },
        "id": "rr46o-HfXeEN",
        "outputId": "4014b6f2-0bc6-42ae-897a-61a50be82fd9"
      },
      "execution_count": null,
      "outputs": [
        {
          "output_type": "stream",
          "name": "stderr",
          "text": [
            "/usr/local/lib/python3.10/dist-packages/huggingface_hub/utils/_token.py:88: UserWarning: \n",
            "The secret `HF_TOKEN` does not exist in your Colab secrets.\n",
            "To authenticate with the Hugging Face Hub, create a token in your settings tab (https://huggingface.co/settings/tokens), set it as secret in your Google Colab and restart your session.\n",
            "You will be able to reuse this secret in all of your notebooks.\n",
            "Please note that authentication is recommended but still optional to access public models or datasets.\n",
            "  warnings.warn(\n",
            "INFO - The layer lm_head is not quantized.\n",
            "INFO:auto_gptq.modeling._base:The layer lm_head is not quantized.\n"
          ]
        }
      ]
    },
    {
      "cell_type": "markdown",
      "source": [
        "### Prompt Settings\n"
      ],
      "metadata": {
        "id": "z0kfRa2oY9If"
      }
    },
    {
      "cell_type": "markdown",
      "source": [
        "Any given prompt will be connected with the default system promt."
      ],
      "metadata": {
        "id": "8aVl4J7dZFPa"
      }
    },
    {
      "cell_type": "code",
      "source": [
        "DEFAULT_SYSTEM_PROMPT = \"\"\"\n",
        "You are a helpful, respectful and honest assistant. Always answer as helpfully as possible, while being safe. Your answers should not include any harmful, unethical, racist, sexist, toxic, dangerous, or illegal content. Please ensure that your responses are socially unbiased and positive in nature.\n",
        "\n",
        "If a question does not make any sense, or is not factually coherent, explain why instead of answering something not correct. If you don't know the answer to a question, please don't share false information.\n",
        "\"\"\".strip()\n",
        "\n",
        "\n",
        "def generate_prompt(prompt: str, system_prompt: str = DEFAULT_SYSTEM_PROMPT) -> str:\n",
        "    return f\"\"\"\n",
        "[INST] <>\n",
        "{system_prompt}\n",
        "<>\n",
        "\n",
        "{prompt} [/INST]\n",
        "\"\"\".strip()"
      ],
      "metadata": {
        "id": "3Vfv0sZYXyCt"
      },
      "execution_count": null,
      "outputs": []
    },
    {
      "cell_type": "code",
      "source": [
        "SYSTEM_PROMPT = \"Use the following pieces of context to answer the question at the end. If you don't know the answer, just say that you don't know, don't try to make up an answer.\"\n",
        "\n",
        "template = generate_prompt(\n",
        "    \"\"\"\n",
        "{context}\n",
        "\n",
        "Question: {question}\n",
        "\"\"\",\n",
        "    system_prompt=SYSTEM_PROMPT,\n",
        ")\n",
        "prompt = PromptTemplate(template=template, input_variables=[\"context\", \"question\"])"
      ],
      "metadata": {
        "id": "Tn_pMXtlcrGI"
      },
      "execution_count": null,
      "outputs": []
    },
    {
      "cell_type": "markdown",
      "source": [
        "### Text Pipeline"
      ],
      "metadata": {
        "id": "7-KcVBiCcQaQ"
      }
    },
    {
      "cell_type": "code",
      "source": [
        "text_pipeline = pipeline(\n",
        "    \"text-generation\",\n",
        "    model=model,\n",
        "    tokenizer=tokenizer,\n",
        "    max_new_tokens=1024,\n",
        "    temperature=0,\n",
        "    top_p=0.95,\n",
        "    repetition_penalty=1.15,\n",
        "    streamer=streamer, # Ask this\n",
        ")"
      ],
      "metadata": {
        "colab": {
          "base_uri": "https://localhost:8080/"
        },
        "id": "NeQp8ircZOz9",
        "outputId": "d90d30d1-676c-438c-b699-ce4185594469"
      },
      "execution_count": null,
      "outputs": [
        {
          "output_type": "stream",
          "name": "stderr",
          "text": [
            "WARNING:xformers:WARNING[XFORMERS]: xFormers can't load C++/CUDA extensions. xFormers was built for:\n",
            "    PyTorch 2.0.1+cu118 with CUDA 1108 (you have 2.2.1+cu121)\n",
            "    Python  3.10.11 (you have 3.10.12)\n",
            "  Please reinstall xformers (see https://github.com/facebookresearch/xformers#installing-xformers)\n",
            "  Memory-efficient attention, SwiGLU, sparse and more won't be available.\n",
            "  Set XFORMERS_MORE_DETAILS=1 for more details\n",
            "The model 'LlamaGPTQForCausalLM' is not supported for text-generation. Supported models are ['BartForCausalLM', 'BertLMHeadModel', 'BertGenerationDecoder', 'BigBirdForCausalLM', 'BigBirdPegasusForCausalLM', 'BioGptForCausalLM', 'BlenderbotForCausalLM', 'BlenderbotSmallForCausalLM', 'BloomForCausalLM', 'CamembertForCausalLM', 'CodeGenForCausalLM', 'CpmAntForCausalLM', 'CTRLLMHeadModel', 'Data2VecTextForCausalLM', 'ElectraForCausalLM', 'ErnieForCausalLM', 'FalconForCausalLM', 'GitForCausalLM', 'GPT2LMHeadModel', 'GPT2LMHeadModel', 'GPTBigCodeForCausalLM', 'GPTNeoForCausalLM', 'GPTNeoXForCausalLM', 'GPTNeoXJapaneseForCausalLM', 'GPTJForCausalLM', 'LlamaForCausalLM', 'MarianForCausalLM', 'MBartForCausalLM', 'MegaForCausalLM', 'MegatronBertForCausalLM', 'MusicgenForCausalLM', 'MvpForCausalLM', 'OpenLlamaForCausalLM', 'OpenAIGPTLMHeadModel', 'OPTForCausalLM', 'PegasusForCausalLM', 'PLBartForCausalLM', 'ProphetNetForCausalLM', 'QDQBertLMHeadModel', 'ReformerModelWithLMHead', 'RemBertForCausalLM', 'RobertaForCausalLM', 'RobertaPreLayerNormForCausalLM', 'RoCBertForCausalLM', 'RoFormerForCausalLM', 'RwkvForCausalLM', 'Speech2Text2ForCausalLM', 'TransfoXLLMHeadModel', 'TrOCRForCausalLM', 'XGLMForCausalLM', 'XLMWithLMHeadModel', 'XLMProphetNetForCausalLM', 'XLMRobertaForCausalLM', 'XLMRobertaXLForCausalLM', 'XLNetLMHeadModel', 'XmodForCausalLM'].\n"
          ]
        }
      ]
    },
    {
      "cell_type": "code",
      "source": [
        "llm = HuggingFacePipeline(pipeline=text_pipeline, model_kwargs={\"temperature\": 0})"
      ],
      "metadata": {
        "id": "9zq609_5ZX3U"
      },
      "execution_count": null,
      "outputs": []
    },
    {
      "cell_type": "code",
      "source": [
        "# def deprecated(claimN):\n",
        "#   claimN = str(claimN)\n",
        "#   try:\n",
        "#     with open('pdfs/' + claimN + '/claim.txt') as f:\n",
        "#       claim_context = f.readlines()\n",
        "#   except:\n",
        "#       return 'Claim not found.'\n",
        "\n",
        "#   #shutil.rmtree(f'db/{claimN}')\n",
        "#   loader = PyPDFDirectoryLoader(\"pdfs/\" + claimN)\n",
        "#   text_splitter = RecursiveCharacterTextSplitter(chunk_size=1024, chunk_overlap=64)\n",
        "#   texts = text_splitter.split_documents(loader.load())\n",
        "#   db = Chroma.from_documents(texts, HuggingFaceInstructEmbeddings(model_name=\"hkunlp/instructor-large\", model_kwargs={\"device\": DEVICE}), persist_directory=\"db/\"+claimN)\n",
        "#   qa_chain = RetrievalQA.from_chain_type(\n",
        "#     llm=llm,\n",
        "#     chain_type=\"stuff\",\n",
        "#     retriever=db.as_retriever(search_kwargs={\"k\": 2}),\n",
        "#     return_source_documents=True,\n",
        "#     chain_type_kwargs={\"prompt\": prompt},\n",
        "#   )\n",
        "\n",
        "#   elem = qa_chain('Identify the key chemical element mentioned in the document. Please respond with only the key element wrote between two §.')\n",
        "#   elems = elem['result'].split('§')\n",
        "#   clear_output()\n",
        "#   return qa_chain('Considering the text, what scientific evidence does it reflect? Please answer speficially following this structure: {Constituent} contributes to {Action} of {Object} assuming the target population is {Target}. Keep in mind that ' + elems[1])\n",
        "\n",
        "def isClaimInDir(claimN, dir) -> bool:\n",
        "  if os.path.isdir(dir + '/' + str(claimN)):\n",
        "    return True\n",
        "  else:\n",
        "    return False\n",
        "\n",
        "def retrieveFood(claimN) -> str:\n",
        "  if not isClaimInDir(str(claimN), 'pdfs'):\n",
        "    return '~'\n",
        "  docs = []\n",
        "  for k in os.listdir('pdfs/'+str(claimN)):\n",
        "    if k.split('.')[1] == 'pdf':\n",
        "      docs.append(k)\n",
        "  for k in docs:\n",
        "    reader = PdfReader('pdfs/'+str(claimN)+'/'+k)\n",
        "    text = reader.pages[0].extract_text().replace('\\n','')\n",
        "    claim_match = re.search(r'the substantiation of health claims related to (.*?) and', text)\n",
        "    if claim_match:\n",
        "      claim_text = claim_match.group(1)\n",
        "      print(f'Constituent Found: {claim_text}')\n",
        "      return claim_text\n",
        "\n",
        "def claimReport(claimN):\n",
        "  claimN = str(claimN)\n",
        "\n",
        "  #Preconditions\n",
        "  if not isClaimInDir(claimN, 'pdfs'):\n",
        "    return 'Claim Not Found in PDFS'\n",
        "  if isClaimInDir(claimN, 'db'):\n",
        "    shutil.rmtree(f'db/{claimN}')\n",
        "\n",
        "  #Find Food\n",
        "  constituent = retrieveFood(claimN)\n",
        "  if constituent == '~':\n",
        "    return 'Could not identify constituent'\n",
        "\n",
        "  #Load QA retrieval and embedding model\n",
        "  loader = PyPDFDirectoryLoader(\"pdfs/\" + claimN)\n",
        "  text_splitter = RecursiveCharacterTextSplitter(chunk_size=1024, chunk_overlap=64)\n",
        "  texts = text_splitter.split_documents(loader.load())\n",
        "  db = Chroma.from_documents(texts, HuggingFaceInstructEmbeddings(model_name=\"hkunlp/instructor-large\", model_kwargs={\"device\": DEVICE}), persist_directory=\"db/\"+claimN)\n",
        "  qa_chain = RetrievalQA.from_chain_type(\n",
        "    llm=llm,\n",
        "    chain_type=\"stuff\",\n",
        "    retriever=db.as_retriever(search_kwargs={\"k\": 2}),\n",
        "    return_source_documents=True,\n",
        "    chain_type_kwargs={\"prompt\": prompt},\n",
        "  )\n",
        "  print('---------------------------------------------------------')\n",
        "  result = qa_chain('Prompt: Considering the text, what are all the claimed effects proposed by the panel? Please answer specifically following the structure: {Constituent} contributes to {Action} of subject assuming the target population is {Target} based on the paragraph {Paragraph}. Repeat for all claimed effects assumed by the panel, knowing that the constituent is ' + constituent + ' and that {Action} is a verb. Hint: All the claimed effects are listed in the index as subparagraph 2.x under the second paragraph titled \"Relevance of the claimed effect to human health.\" Be sure to check the index for a comprehensive list of claimed effects. Additional Instructions: Keep in mind that each claimed effect has its own subparagraph under the second paragraph titled \"Relevance of the claimed effect to human health,\" which spans over multiple pages and ends with the scientific substantiation of the claimed effect. At the end, please copy all the previously mentioned paragraphs from the provided source document in full.')\n",
        "  print('---------------------------------------------------------')\n",
        "  # result_B = qa_chain('Considering the text,what are the other academic papers cited? They are mostly containing citations as \"(author et al., publish year)\". Give the exact paragraph provides the supporting evidences with citations. At the end, please copy all the previously mentioned paragraphs from the provided source document in full.')\n",
        "  # result_B = qa_chain('Generate detailed responses for each claimed effect proposed by the panel regarding the constituent ' + constituent +'. Include the complete text from the document for each claimed effect.')\n",
        "  print('---------------------------------------------------------')\n",
        "\n",
        "  #print(docs)\n",
        "  return [result,result_B]"
      ],
      "metadata": {
        "id": "Yq09i0jnczdi"
      },
      "execution_count": null,
      "outputs": []
    },
    {
      "cell_type": "code",
      "source": [
        "t = claimReport(1)"
      ],
      "metadata": {
        "colab": {
          "base_uri": "https://localhost:8080/"
        },
        "id": "-QBZcF69dO5O",
        "outputId": "763fcacc-ca26-4783-95a1-bbc58135c6d1"
      },
      "execution_count": null,
      "outputs": [
        {
          "output_type": "stream",
          "name": "stdout",
          "text": [
            "Constituent Found: alpha-linolenic acid\n",
            "load INSTRUCTOR_Transformer\n",
            "max_seq_length  512\n",
            "---------------------------------------------------------\n",
            " Based on the provided text, the claimed effects proposed by the panel are:\n",
            "\n",
            "{Constituent} contributes to {Action} of subject assuming the target population is {Target} based on the paragraph {Paragraph}.\n",
            "\n",
            "1. Alpha-linolenic acid contributes to the maintenance of normal blood cholesterol concentrations assuming the target population is the general population based on paragraph 2.1.\n",
            "2. Alpha-linolenic acid helps maintain a healthy blood pressure assuming the target population is the general population based on paragraph 2.2.\n",
            "\n",
            "Please note that these claimed effects are listed in the index as subparagraphs 2.1 and 2.2 under the second paragraph titled \"Relevance of the claimed effect to human health.\"\n",
            "\n",
            "Here are the full paragraphs from the provided source document:\n",
            "\n",
            "\"2. Relevance of the claimed effect to human health\n",
            "\n",
            "2.1. Maintenance of normal blood cholesterol concentrations (ID 493)\n",
            "\n",
            "The claimed effect is “blood cholesterol”. The Panel assumes that the target population is the general population. In the context of the proposed wordings, the Panel notes that the claimed effect relates to the maintenance of normal blood cholesterol concentrations.\n",
            "\n",
            "A cause and effect relationship has been established between the dietary intake of alpha-linolenic acid and the reduction of LDL-cholesterol concentrations.\n",
            "\n",
            "2.2. Maintenance of healthy blood pressure (ID 625)\n",
            "\n",
            "The claimed effect is “helps maintain a healthy blood pressure”. The Panel assumes the target population is the general population. Maintenance of normal blood pressure is beneficial to human health.\n",
            "\n",
            "The evidence provided is insufficient to establish a cause and effect relationship between the dietary intake of ALA and the maintenance of normal blood pressure.\"\n",
            "---------------------------------------------------------\n",
            " Based on the given text, there are two academic papers cited:\n",
            "\n",
            "1. \"18314732, 2009, 10, Downloaded from <https://efsa.onlinelibrary.wiley.com/doi/10.2903/j.efsa.2009.1252>, Wiley Online Library on [20/03/2024]\"\n",
            "2. \"18314732, 2011, 6, Downloaded from <https://efsa.onlinelibrary.wiley.com/doi/10.2903/j.efsa.2011.2203>, Wiley Online Library on [20/03/2024]\"\n",
            "\n",
            "The supporting evidence with citations is provided in the following paragraphs:\n",
            "\n",
            "\"Documentation provided to EFSA ........................................................................................................... 9\n",
            "References .............................................................................................................................................. 10\n",
            "Appendices ............................................................................................................................................. 12\"\n",
            "\n",
            "Therefore, the exact paragraphs from the provided source document that provide supporting evidences with citations are:\n",
            "\n",
            "\"Documentation provided to EFSA ........................................................................................................... 9\n",
            "References .............................................................................................................................................. 10\n",
            "Appendices ............................................................................................................................................. 12\"\n",
            "\n",
            "Please note that these paragraphs do not contain any explicit citations or references, but they are considered as supporting evidence for the paper's claims.\n",
            "---------------------------------------------------------\n"
          ]
        }
      ]
    },
    {
      "cell_type": "code",
      "source": [],
      "metadata": {
        "id": "V-WoDuq3dO2r"
      },
      "execution_count": null,
      "outputs": []
    },
    {
      "cell_type": "code",
      "source": [],
      "metadata": {
        "id": "jI9fCrwHdOwd"
      },
      "execution_count": null,
      "outputs": []
    },
    {
      "cell_type": "code",
      "source": [],
      "metadata": {
        "id": "BjUQ7Q0IdOmc"
      },
      "execution_count": null,
      "outputs": []
    }
  ]
}